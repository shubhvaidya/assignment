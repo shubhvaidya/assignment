{
 "cells": [
  {
   "cell_type": "code",
   "execution_count": 6,
   "id": "f4f85c63-7f89-4b29-a38d-e836b0650fd2",
   "metadata": {},
   "outputs": [],
   "source": [
    "                 s = {\"company\" : \"shubham\", \"course\" : [\"java\", \"data science\", \"python\", \"dsa\", \"my sql\"]}"
   ]
  },
  {
   "cell_type": "code",
   "execution_count": 2,
   "id": "bbd5f0f8-05f8-42a0-b725-d2429f21a56c",
   "metadata": {},
   "outputs": [
    {
     "data": {
      "text/plain": [
       "{'company': 'shubham', 'course': ['java, data science, python, dsa, my sql']}"
      ]
     },
     "execution_count": 2,
     "metadata": {},
     "output_type": "execute_result"
    }
   ],
   "source": [
    "s"
   ]
  },
  {
   "cell_type": "code",
   "execution_count": 3,
   "id": "9e7fdab1-6bf5-483a-9a75-7bf893fbfab9",
   "metadata": {},
   "outputs": [
    {
     "ename": "IndexError",
     "evalue": "list index out of range",
     "output_type": "error",
     "traceback": [
      "\u001b[0;31m---------------------------------------------------------------------------\u001b[0m",
      "\u001b[0;31mIndexError\u001b[0m                                Traceback (most recent call last)",
      "Cell \u001b[0;32mIn[3], line 1\u001b[0m\n\u001b[0;32m----> 1\u001b[0m \u001b[43ms\u001b[49m\u001b[43m[\u001b[49m\u001b[38;5;124;43m\"\u001b[39;49m\u001b[38;5;124;43mcourse\u001b[39;49m\u001b[38;5;124;43m\"\u001b[39;49m\u001b[43m]\u001b[49m\u001b[43m[\u001b[49m\u001b[38;5;241;43m2\u001b[39;49m\u001b[43m]\u001b[49m\n",
      "\u001b[0;31mIndexError\u001b[0m: list index out of range"
     ]
    }
   ],
   "source": [
    "s[\"course\"][2]"
   ]
  },
  {
   "cell_type": "code",
   "execution_count": 4,
   "id": "9e5ef28d-ec3f-4138-a2d9-ca20caccfb03",
   "metadata": {},
   "outputs": [
    {
     "data": {
      "text/plain": [
       "['java, data science, python, dsa, my sql']"
      ]
     },
     "execution_count": 4,
     "metadata": {},
     "output_type": "execute_result"
    }
   ],
   "source": [
    "s['course']"
   ]
  },
  {
   "cell_type": "code",
   "execution_count": 5,
   "id": "528036a3-1f5d-48e4-893b-c9fdebb30018",
   "metadata": {},
   "outputs": [
    {
     "ename": "IndexError",
     "evalue": "list index out of range",
     "output_type": "error",
     "traceback": [
      "\u001b[0;31m---------------------------------------------------------------------------\u001b[0m",
      "\u001b[0;31mIndexError\u001b[0m                                Traceback (most recent call last)",
      "Cell \u001b[0;32mIn[5], line 1\u001b[0m\n\u001b[0;32m----> 1\u001b[0m \u001b[43ms\u001b[49m\u001b[43m[\u001b[49m\u001b[38;5;124;43m'\u001b[39;49m\u001b[38;5;124;43mcourse\u001b[39;49m\u001b[38;5;124;43m'\u001b[39;49m\u001b[43m]\u001b[49m\u001b[43m[\u001b[49m\u001b[38;5;241;43m2\u001b[39;49m\u001b[43m]\u001b[49m\n",
      "\u001b[0;31mIndexError\u001b[0m: list index out of range"
     ]
    }
   ],
   "source": [
    "s['course'][2]"
   ]
  },
  {
   "cell_type": "code",
   "execution_count": 7,
   "id": "15eba0d5-0ff3-4a5b-8290-d733d16ce36d",
   "metadata": {},
   "outputs": [
    {
     "data": {
      "text/plain": [
       "{'company': 'shubham',\n",
       " 'course': ['java', 'data science', 'python', 'dsa', 'my sql']}"
      ]
     },
     "execution_count": 7,
     "metadata": {},
     "output_type": "execute_result"
    }
   ],
   "source": [
    "s"
   ]
  },
  {
   "cell_type": "code",
   "execution_count": 8,
   "id": "dee3cbe1-ee5a-494a-9dba-959d8232b3fe",
   "metadata": {},
   "outputs": [
    {
     "data": {
      "text/plain": [
       "'python'"
      ]
     },
     "execution_count": 8,
     "metadata": {},
     "output_type": "execute_result"
    }
   ],
   "source": [
    "s['course'][2]"
   ]
  },
  {
   "cell_type": "code",
   "execution_count": 2,
   "id": "16f438c0-a41c-436a-9c28-a16268c64678",
   "metadata": {},
   "outputs": [
    {
     "ename": "SyntaxError",
     "evalue": "cannot delete literal (3206772644.py, line 1)",
     "output_type": "error",
     "traceback": [
      "\u001b[0;36m  Cell \u001b[0;32mIn[2], line 1\u001b[0;36m\u001b[0m\n\u001b[0;31m    del [\"company\"]\u001b[0m\n\u001b[0m         ^\u001b[0m\n\u001b[0;31mSyntaxError\u001b[0m\u001b[0;31m:\u001b[0m cannot delete literal\n"
     ]
    }
   ],
   "source": [
    "del [\"company\"]"
   ]
  },
  {
   "cell_type": "code",
   "execution_count": 3,
   "id": "0962992f-38b8-4314-9201-1c8dcb2e3272",
   "metadata": {},
   "outputs": [
    {
     "ename": "NameError",
     "evalue": "name 's' is not defined",
     "output_type": "error",
     "traceback": [
      "\u001b[0;31m---------------------------------------------------------------------------\u001b[0m",
      "\u001b[0;31mNameError\u001b[0m                                 Traceback (most recent call last)",
      "Cell \u001b[0;32mIn[3], line 1\u001b[0m\n\u001b[0;32m----> 1\u001b[0m \u001b[38;5;28;01mdel\u001b[39;00m \u001b[43ms\u001b[49m[\u001b[38;5;124m'\u001b[39m\u001b[38;5;124mcompany\u001b[39m\u001b[38;5;124m'\u001b[39m]\n",
      "\u001b[0;31mNameError\u001b[0m: name 's' is not defined"
     ]
    }
   ],
   "source": [
    "del s['company']"
   ]
  },
  {
   "cell_type": "code",
   "execution_count": 6,
   "id": "44bd3dac-86c9-436a-8dff-6355f687efff",
   "metadata": {},
   "outputs": [],
   "source": [
    "s = {\"name\" : \"shubham\", \"age\" : \"26\", \"number\" : 8308302285, \"course\" : \"data science\"}"
   ]
  },
  {
   "cell_type": "code",
   "execution_count": 7,
   "id": "42dca647-cf3f-4678-9922-2a280aff838f",
   "metadata": {},
   "outputs": [
    {
     "data": {
      "text/plain": [
       "{'name': 'shubham',\n",
       " 'age': '26',\n",
       " 'number': 8308302285,\n",
       " 'course': 'data science'}"
      ]
     },
     "execution_count": 7,
     "metadata": {},
     "output_type": "execute_result"
    }
   ],
   "source": [
    "s"
   ]
  },
  {
   "cell_type": "code",
   "execution_count": 8,
   "id": "2591a7f1-0d47-4d94-a109-f0060dea74bf",
   "metadata": {},
   "outputs": [],
   "source": [
    "del s[\"number\"]"
   ]
  },
  {
   "cell_type": "code",
   "execution_count": 9,
   "id": "32f41a0f-5662-4fd4-8a93-554112472920",
   "metadata": {},
   "outputs": [
    {
     "data": {
      "text/plain": [
       "{'name': 'shubham', 'age': '26', 'course': 'data science'}"
      ]
     },
     "execution_count": 9,
     "metadata": {},
     "output_type": "execute_result"
    }
   ],
   "source": [
    "s"
   ]
  },
  {
   "cell_type": "code",
   "execution_count": 10,
   "id": "151b4691-6356-4a16-93b2-cb031c7cdd81",
   "metadata": {},
   "outputs": [
    {
     "data": {
      "text/plain": [
       "'data science'"
      ]
     },
     "execution_count": 10,
     "metadata": {},
     "output_type": "execute_result"
    }
   ],
   "source": [
    "s.pop(\"course\")"
   ]
  },
  {
   "cell_type": "code",
   "execution_count": 12,
   "id": "018a8053-9ed8-48ac-b441-30e9a46bd2a5",
   "metadata": {},
   "outputs": [],
   "source": [
    "s = {\"name\" : \"shubham\", \"age\" : \"26\", \"number\" : 8308302285, \"course\" : \"data science\"}"
   ]
  },
  {
   "cell_type": "code",
   "execution_count": 13,
   "id": "dc8b1db3-3ad6-41e7-bc47-99da3c443e5f",
   "metadata": {},
   "outputs": [
    {
     "data": {
      "text/plain": [
       "dict_keys(['name', 'age', 'number', 'course'])"
      ]
     },
     "execution_count": 13,
     "metadata": {},
     "output_type": "execute_result"
    }
   ],
   "source": [
    "s.keys()"
   ]
  },
  {
   "cell_type": "code",
   "execution_count": 14,
   "id": "36efd5c1-174a-4174-9157-c2f5ad921d4f",
   "metadata": {},
   "outputs": [
    {
     "data": {
      "text/plain": [
       "dict_values(['shubham', '26', 8308302285, 'data science'])"
      ]
     },
     "execution_count": 14,
     "metadata": {},
     "output_type": "execute_result"
    }
   ],
   "source": [
    "s.values()"
   ]
  },
  {
   "cell_type": "code",
   "execution_count": 15,
   "id": "0af9c58d-bc3e-4143-9940-10727c8bbdd1",
   "metadata": {},
   "outputs": [
    {
     "data": {
      "text/plain": [
       "dict_items([('name', 'shubham'), ('age', '26'), ('number', 8308302285), ('course', 'data science')])"
      ]
     },
     "execution_count": 15,
     "metadata": {},
     "output_type": "execute_result"
    }
   ],
   "source": [
    "s.items()"
   ]
  },
  {
   "cell_type": "code",
   "execution_count": 19,
   "id": "7352e5a7-20f4-4ed8-920d-d7d8928dc54f",
   "metadata": {},
   "outputs": [
    {
     "data": {
      "text/plain": [
       "['s', 'h', 'u', 'b', 'a', 'm']"
      ]
     },
     "execution_count": 19,
     "metadata": {},
     "output_type": "execute_result"
    }
   ],
   "source": [
    "list (s.fromkeys(\"shubham\"))"
   ]
  },
  {
   "cell_type": "code",
   "execution_count": 20,
   "id": "004a25d4-7117-4c0f-b8fc-e056990c844e",
   "metadata": {},
   "outputs": [
    {
     "data": {
      "text/plain": [
       "{'name': 'shubham',\n",
       " 'age': '26',\n",
       " 'number': 8308302285,\n",
       " 'course': 'data science'}"
      ]
     },
     "execution_count": 20,
     "metadata": {},
     "output_type": "execute_result"
    }
   ],
   "source": [
    "s"
   ]
  },
  {
   "cell_type": "code",
   "execution_count": 37,
   "id": "b34db240-1757-460f-baf9-e5b60c744599",
   "metadata": {},
   "outputs": [
    {
     "name": "stdin",
     "output_type": "stream",
     "text": [
      "enter the marks 55\n"
     ]
    },
    {
     "name": "stdout",
     "output_type": "stream",
     "text": [
      "you will be a part of A2 batch\n"
     ]
    }
   ],
   "source": [
    "marks = int(input(\"enter the marks\"))\n",
    "if marks >= 80 :\n",
    "    print(\"you will be a part of A0 batch\")\n",
    "elif marks >= 60 and marks< 80 :\n",
    "    print(\"you will be a part of A1 batch\")\n",
    "elif marks >= 40 and marks< 60 :\n",
    "    print(\"you will be a part of A2 batch\")\n",
    "else :\n",
    "    print(\"you will be a part of A3 batch\")"
   ]
  },
  {
   "cell_type": "code",
   "execution_count": 34,
   "id": "ef55163a-accd-459e-8b0f-275599b7d56e",
   "metadata": {},
   "outputs": [],
   "source": [
    "marks = 34"
   ]
  },
  {
   "cell_type": "code",
   "execution_count": 35,
   "id": "436185af-aaf9-4450-bb22-fab77597f19d",
   "metadata": {},
   "outputs": [
    {
     "data": {
      "text/plain": [
       "int"
      ]
     },
     "execution_count": 35,
     "metadata": {},
     "output_type": "execute_result"
    }
   ],
   "source": [
    "type(marks)"
   ]
  },
  {
   "cell_type": "code",
   "execution_count": null,
   "id": "911efe08-2726-4117-bde1-7793eb4654e3",
   "metadata": {},
   "outputs": [],
   "source": [
    "marks = input(\"enter the marks\")"
   ]
  },
  {
   "cell_type": "code",
   "execution_count": 41,
   "id": "95329609-1297-42e6-a185-5bc79ae0ad60",
   "metadata": {},
   "outputs": [
    {
     "name": "stdin",
     "output_type": "stream",
     "text": [
      "enter score 60\n"
     ]
    },
    {
     "name": "stdout",
     "output_type": "stream",
     "text": [
      "he will gwt C+ contract\n"
     ]
    }
   ],
   "source": [
    "score = int(input(\"enter score\"))\n",
    "if score >= 90 :\n",
    "    print(\"he will get A+ contract\")\n",
    "elif score >= 80 and score< 90 :\n",
    "    print(\"he will get B+ contract\")\n",
    "else:\n",
    "    print(\"he will gwt C+ contract\")"
   ]
  },
  {
   "cell_type": "code",
   "execution_count": 43,
   "id": "2c426d9f-1e51-4e59-a2d8-3184d21e4af4",
   "metadata": {},
   "outputs": [
    {
     "data": {
      "text/plain": [
       "int"
      ]
     },
     "execution_count": 43,
     "metadata": {},
     "output_type": "execute_result"
    }
   ],
   "source": [
    "type(score)"
   ]
  },
  {
   "cell_type": "code",
   "execution_count": 56,
   "id": "cdb0ce37-5c64-4189-86c8-24408b6ff130",
   "metadata": {},
   "outputs": [
    {
     "name": "stdin",
     "output_type": "stream",
     "text": [
      "enter price 5000\n"
     ]
    },
    {
     "name": "stdout",
     "output_type": "stream",
     "text": [
      "prise is to much\n",
      "price is afordable\n"
     ]
    }
   ],
   "source": [
    "price = int(input(\"enter price\"))\n",
    "if price < 10000:\n",
    "    print(\"prise is to much\")\n",
    "    if price <=5000:\n",
    "        print(\"price is afordable\")\n",
    "elif price <500 :\n",
    "    print(\"its a good\")\n",
    "else :\n",
    "    print(\"to good\")"
   ]
  },
  {
   "cell_type": "code",
   "execution_count": 68,
   "id": "b31f14ae-dd21-487f-b7a9-32e65cd59a9c",
   "metadata": {},
   "outputs": [
    {
     "name": "stdin",
     "output_type": "stream",
     "text": [
      "enter price 4000\n"
     ]
    },
    {
     "name": "stdout",
     "output_type": "stream",
     "text": [
      "ok\n"
     ]
    }
   ],
   "source": [
    "price = int(input(\"enter price\"))\n",
    "if price > 10000:\n",
    "    print(\"prise is to much\")\n",
    "    if price <5000:\n",
    "        print(\"price is afordable\")\n",
    "else :\n",
    "    print(\"ok\")"
   ]
  },
  {
   "cell_type": "code",
   "execution_count": 69,
   "id": "58afa61b-b7f4-4bda-a42d-6616a276aa45",
   "metadata": {},
   "outputs": [],
   "source": [
    "l = [1,2,3,4,4,5,567,8,9,]"
   ]
  },
  {
   "cell_type": "code",
   "execution_count": 70,
   "id": "d683e22e-a6b6-432c-ad4a-226e63fd32b2",
   "metadata": {},
   "outputs": [],
   "source": [
    "l1 = [1]"
   ]
  },
  {
   "cell_type": "code",
   "execution_count": 72,
   "id": "c594aab1-4fda-4dd7-8ca8-ce17f5ea9bd6",
   "metadata": {},
   "outputs": [
    {
     "data": {
      "text/plain": [
       "[1, 1, 2, 3, 4, 4, 5, 567, 8, 9]"
      ]
     },
     "execution_count": 72,
     "metadata": {},
     "output_type": "execute_result"
    }
   ],
   "source": [
    "l1+l"
   ]
  },
  {
   "cell_type": "code",
   "execution_count": 73,
   "id": "aacc5d21-c2fb-4197-b2d1-462316c2360f",
   "metadata": {},
   "outputs": [],
   "source": [
    "l2 = l1+l"
   ]
  },
  {
   "cell_type": "code",
   "execution_count": 74,
   "id": "cc5fedcd-d37a-48d0-9647-4d5b52b132a2",
   "metadata": {},
   "outputs": [
    {
     "data": {
      "text/plain": [
       "[1, 1, 2, 3, 4, 4, 5, 567, 8, 9]"
      ]
     },
     "execution_count": 74,
     "metadata": {},
     "output_type": "execute_result"
    }
   ],
   "source": [
    "l2"
   ]
  },
  {
   "cell_type": "code",
   "execution_count": 77,
   "id": "5dd1f4e6-8374-46dc-aa8e-b2db00071967",
   "metadata": {},
   "outputs": [],
   "source": [
    "l2.extend(\"shubham\")"
   ]
  },
  {
   "cell_type": "code",
   "execution_count": 78,
   "id": "51bd07c7-da7e-4092-97e8-37f101a93090",
   "metadata": {},
   "outputs": [
    {
     "data": {
      "text/plain": [
       "[1, 1, 2, 3, 4, 4, 5, 567, 8, 9, 's', 'h', 'u', 'b', 'h', 'a', 'm']"
      ]
     },
     "execution_count": 78,
     "metadata": {},
     "output_type": "execute_result"
    }
   ],
   "source": [
    "l2"
   ]
  },
  {
   "cell_type": "code",
   "execution_count": 79,
   "id": "e6d8030e-1e2e-410d-8cfe-976e781fcf54",
   "metadata": {},
   "outputs": [],
   "source": [
    "l2.append(\"shubham\")"
   ]
  },
  {
   "cell_type": "code",
   "execution_count": 80,
   "id": "8d28ee19-9dc8-488c-9f84-d8ece15a44b1",
   "metadata": {},
   "outputs": [
    {
     "data": {
      "text/plain": [
       "[1, 1, 2, 3, 4, 4, 5, 567, 8, 9, 's', 'h', 'u', 'b', 'h', 'a', 'm', 'shubham']"
      ]
     },
     "execution_count": 80,
     "metadata": {},
     "output_type": "execute_result"
    }
   ],
   "source": [
    "l2"
   ]
  },
  {
   "cell_type": "code",
   "execution_count": 81,
   "id": "736d9219-1370-425c-9977-087c28538582",
   "metadata": {},
   "outputs": [
    {
     "data": {
      "text/plain": [
       "[1, 2, 3, 4, 4, 5, 567, 8, 9]"
      ]
     },
     "execution_count": 81,
     "metadata": {},
     "output_type": "execute_result"
    }
   ],
   "source": [
    "l"
   ]
  },
  {
   "cell_type": "code",
   "execution_count": 97,
   "id": "b00e4bf3-42f2-4b09-9528-12e04442d0a9",
   "metadata": {},
   "outputs": [
    {
     "name": "stdout",
     "output_type": "stream",
     "text": [
      "2\n",
      "3\n",
      "4\n",
      "5\n",
      "5\n",
      "6\n",
      "568\n",
      "9\n",
      "10\n"
     ]
    },
    {
     "data": {
      "text/plain": [
       "[2, 3, 4, 5, 5, 6, 568, 9, 10]"
      ]
     },
     "execution_count": 97,
     "metadata": {},
     "output_type": "execute_result"
    }
   ],
   "source": [
    "l1 = []\n",
    "for shubh in l:\n",
    "    print(shubh+1)\n",
    "    l1.append(shubh+1)\n",
    "l1    "
   ]
  },
  {
   "cell_type": "code",
   "execution_count": 98,
   "id": "0f3b3594-597c-460d-af9e-499f1e68e057",
   "metadata": {},
   "outputs": [
    {
     "data": {
      "text/plain": [
       "[1, 2, 3, 4, 4, 5, 567, 8, 9]"
      ]
     },
     "execution_count": 98,
     "metadata": {},
     "output_type": "execute_result"
    }
   ],
   "source": [
    "l"
   ]
  },
  {
   "cell_type": "code",
   "execution_count": 101,
   "id": "2fd4bd83-b137-46ae-a11c-c15b5691e4e5",
   "metadata": {},
   "outputs": [],
   "source": [
    "l = [\"shubh\", \"vaidya\", \"pwskills\", \"data science\"]"
   ]
  },
  {
   "cell_type": "code",
   "execution_count": 108,
   "id": "e1d053c8-9f10-4265-bf8b-a3212278294e",
   "metadata": {},
   "outputs": [
    {
     "name": "stdout",
     "output_type": "stream",
     "text": [
      "shubh\n",
      "vaidya\n",
      "pwskills\n",
      "data science\n"
     ]
    }
   ],
   "source": [
    "l1 =[]\n",
    "for s in l:\n",
    "    print(s)\n",
    "    l1.append(s.upper())"
   ]
  },
  {
   "cell_type": "code",
   "execution_count": 109,
   "id": "5d3b7d14-994b-4ac9-b643-2b92dbd66f9e",
   "metadata": {},
   "outputs": [
    {
     "data": {
      "text/plain": [
       "['SHUBH', 'VAIDYA', 'PWSKILLS', 'DATA SCIENCE']"
      ]
     },
     "execution_count": 109,
     "metadata": {},
     "output_type": "execute_result"
    }
   ],
   "source": [
    "l1"
   ]
  },
  {
   "cell_type": "code",
   "execution_count": 115,
   "id": "94fa6789-a1ff-479b-bd44-0ad81dc3fb37",
   "metadata": {},
   "outputs": [],
   "source": [
    "l = [1,3,4,5,\"shubh\",\"vaidya\",45,7.5,\"takila\"]"
   ]
  },
  {
   "cell_type": "code",
   "execution_count": 116,
   "id": "1a5eaaf5-582d-4697-81e6-1f7e1e190198",
   "metadata": {},
   "outputs": [
    {
     "data": {
      "text/plain": [
       "[1, 3, 4, 5, 'shubh', 'vaidya', 45, 7.5, 'takila']"
      ]
     },
     "execution_count": 116,
     "metadata": {},
     "output_type": "execute_result"
    }
   ],
   "source": [
    "l"
   ]
  },
  {
   "cell_type": "code",
   "execution_count": 126,
   "id": "9fe39ca8-aef2-41e7-be1c-75421bb1da74",
   "metadata": {},
   "outputs": [],
   "source": [
    "l1_num =[]\n",
    "l2_str =[]\n",
    "l3_float =[]\n",
    "for q in l:\n",
    "    if type(q) == int :\n",
    "        l1_num.append(q)\n",
    "    elif type(q) == float :\n",
    "        l3_float.append(q)\n",
    "    else :\n",
    "        l2_str.append(q.upper())"
   ]
  },
  {
   "cell_type": "code",
   "execution_count": 121,
   "id": "485a111d-0498-411d-b51e-5097e1fbe968",
   "metadata": {},
   "outputs": [
    {
     "data": {
      "text/plain": [
       "[1, 3, 4, 5, 45, 7.5]"
      ]
     },
     "execution_count": 121,
     "metadata": {},
     "output_type": "execute_result"
    }
   ],
   "source": [
    "l1_num"
   ]
  },
  {
   "cell_type": "code",
   "execution_count": 124,
   "id": "63043f99-5ac3-440a-9502-79b75124559a",
   "metadata": {},
   "outputs": [
    {
     "data": {
      "text/plain": [
       "['SHUBH', 'VAIDYA', 'TAKILA']"
      ]
     },
     "execution_count": 124,
     "metadata": {},
     "output_type": "execute_result"
    }
   ],
   "source": [
    "l2_str"
   ]
  },
  {
   "cell_type": "code",
   "execution_count": 127,
   "id": "9e611f21-6986-4ea8-89f0-56df25ef5476",
   "metadata": {},
   "outputs": [
    {
     "data": {
      "text/plain": [
       "[7.5]"
      ]
     },
     "execution_count": 127,
     "metadata": {},
     "output_type": "execute_result"
    }
   ],
   "source": [
    "l3_float"
   ]
  },
  {
   "cell_type": "code",
   "execution_count": 129,
   "id": "ae6db718-e1d5-4e6a-99ec-55814399065e",
   "metadata": {},
   "outputs": [],
   "source": [
    "l =[1,2,3,4,4,5,2,]"
   ]
  },
  {
   "cell_type": "code",
   "execution_count": 133,
   "id": "4286cb6a-44b4-45cd-8a45-d8bec65b97cd",
   "metadata": {},
   "outputs": [
    {
     "name": "stdout",
     "output_type": "stream",
     "text": [
      "3\n",
      "4\n",
      "5\n",
      "6\n",
      "6\n",
      "7\n",
      "4\n"
     ]
    },
    {
     "data": {
      "text/plain": [
       "[1, 2, 3, 4, 4, 5, 2]"
      ]
     },
     "execution_count": 133,
     "metadata": {},
     "output_type": "execute_result"
    }
   ],
   "source": [
    "l1 =[]\n",
    "for s in l:\n",
    "    print(s+2)\n",
    "    l1.append(s)\n",
    "l1"
   ]
  },
  {
   "cell_type": "code",
   "execution_count": 134,
   "id": "fcffab2d-86f0-4926-bb2b-15aa78149d5a",
   "metadata": {},
   "outputs": [
    {
     "data": {
      "text/plain": [
       "[1, 2, 3, 4, 4, 5, 2]"
      ]
     },
     "execution_count": 134,
     "metadata": {},
     "output_type": "execute_result"
    }
   ],
   "source": [
    "l1"
   ]
  },
  {
   "cell_type": "code",
   "execution_count": 132,
   "id": "74ea6795-b4d6-4611-ae2b-b2889950b67d",
   "metadata": {},
   "outputs": [
    {
     "data": {
      "text/plain": [
       "[1, 2, 3, 4, 4, 5, 2]"
      ]
     },
     "execution_count": 132,
     "metadata": {},
     "output_type": "execute_result"
    }
   ],
   "source": [
    "l"
   ]
  },
  {
   "cell_type": "code",
   "execution_count": null,
   "id": "808ba490-618c-486b-8626-f46b32279c72",
   "metadata": {},
   "outputs": [],
   "source": []
  }
 ],
 "metadata": {
  "kernelspec": {
   "display_name": "Python 3 (ipykernel)",
   "language": "python",
   "name": "python3"
  },
  "language_info": {
   "codemirror_mode": {
    "name": "ipython",
    "version": 3
   },
   "file_extension": ".py",
   "mimetype": "text/x-python",
   "name": "python",
   "nbconvert_exporter": "python",
   "pygments_lexer": "ipython3",
   "version": "3.10.8"
  }
 },
 "nbformat": 4,
 "nbformat_minor": 5
}
